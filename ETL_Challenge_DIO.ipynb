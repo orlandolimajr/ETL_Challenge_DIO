{
  "nbformat": 4,
  "nbformat_minor": 0,
  "metadata": {
    "colab": {
      "provenance": [],
      "authorship_tag": "ABX9TyM7VRmE6t+oJALgFM+VOZ92",
      "include_colab_link": true
    },
    "kernelspec": {
      "name": "python3",
      "display_name": "Python 3"
    },
    "language_info": {
      "name": "python"
    }
  },
  "cells": [
    {
      "cell_type": "markdown",
      "metadata": {
        "id": "view-in-github",
        "colab_type": "text"
      },
      "source": [
        "<a href=\"https://colab.research.google.com/github/orlandolimajr/ETL_Challenge_DIO/blob/main/ETL_Challenge_DIO.ipynb\" target=\"_parent\"><img src=\"https://colab.research.google.com/assets/colab-badge.svg\" alt=\"Open In Colab\"/></a>"
      ]
    },
    {
      "cell_type": "code",
      "execution_count": 27,
      "metadata": {
        "colab": {
          "base_uri": "https://localhost:8080/"
        },
        "id": "Pw0nfrTUwoc2",
        "outputId": "0dec6223-31ee-4fb3-e3e5-861ca1c34e2e"
      },
      "outputs": [
        {
          "output_type": "stream",
          "name": "stdout",
          "text": [
            " UserID    Name  Year of entrance Type of Client  Account Limit         Credit Card  Age           City\n",
            "      4 Orlando              1992        Regular          50000 xxxx-xxxx-xxxx-1111   31 Rio de Janeiro\n",
            "      5  Mayara              1995        Premium         100000 xxxx-xxxx-xxxx-2222   27 Rio de Janeiro\n",
            "      6   Pedro              2021        Premium         100000 xxxx-xxxx-xxxx-3333    2      Sao Paulo\n"
          ]
        }
      ],
      "source": [
        "import pandas as pd\n",
        "\n",
        "df = pd.read_csv('SDW2023_Accounts.csv')\n",
        "user_ids = df['UserID'].tolist()\n",
        "#print(user_ids)\n",
        "print(df.to_string(index=False))"
      ]
    },
    {
      "cell_type": "code",
      "source": [
        "def get_user_info(csv_file, userid):\n",
        "  try:\n",
        "    df = pd.read_csv(csv_file)\n",
        "    if \"UserID\" in df.columns:\n",
        "      user_info = df[df['UserID'] == userid]\n",
        "      if not user_info.empty:\n",
        "        return user_info.to_dict(orient='records')[0]\n",
        "      else:\n",
        "        print(f\"UserID {userid} não encontrado no arquivo\")\n",
        "        return None\n",
        "  except FileNotFoundError:\n",
        "    print(f\"O arquivo {arquivo_csv} não foi encontrado\")\n",
        "    return None\n",
        "\n",
        "csv_file = 'SDW2023_Accounts.csv'\n",
        "userid = 4\n",
        "info = get_user_info(csv_file, userid)\n",
        "print(info)"
      ],
      "metadata": {
        "colab": {
          "base_uri": "https://localhost:8080/"
        },
        "id": "yNtfKjBdytj2",
        "outputId": "6fb6abce-07cb-4aca-bf5d-6971038350a3"
      },
      "execution_count": 32,
      "outputs": [
        {
          "output_type": "stream",
          "name": "stdout",
          "text": [
            "{'UserID': 4, 'Name': 'Orlando', 'Year of entrance': 1992, 'Type of Client': 'Regular', 'Account Limit': 50000, 'Credit Card': 'xxxx-xxxx-xxxx-1111', 'Age': 31, 'City': 'Rio de Janeiro'}\n"
          ]
        }
      ]
    }
  ]
}